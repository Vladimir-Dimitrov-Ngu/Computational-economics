{
 "cells": [
  {
   "cell_type": "markdown",
   "id": "b66288e9",
   "metadata": {},
   "source": [
    "### Bisection method \n",
    "Solve equation $f(x) = 0$, conditional on $x \\in [a, b] \\subset \\mathbb{R}$ such that $f(a)f(b) < 0$\n",
    "\n",
    "Algorithm: similar to binary search, but in **continuous space**"
   ]
  },
  {
   "cell_type": "code",
   "execution_count": 30,
   "id": "5e7c2d7d",
   "metadata": {},
   "outputs": [],
   "source": [
    "def bisection(f, a=0, b=1, tolerance=1e-6, callback=None, maxiter=100):\n",
    "    '''\n",
    "    Bisection method for solving equation f(x)=0\n",
    "    on the interval [a,b], with given tolerance and number of iterations.\n",
    "    Callback function is invoked at each iteration if given.\n",
    "    '''\n",
    "    if f(a)*f(b)>0:\n",
    "        raise ValueError('The function has to have opposite signs at the bounderies')\n",
    "    \n",
    "    for i in range(maxiter):\n",
    "        err = abs(a-b)\n",
    "        x = (a+b)/2\n",
    "        if callback!=None:\n",
    "            callback(x, iter=i,a=a,b=b,err=err)\n",
    "        if f(a)*f(x)>0:\n",
    "            a = x\n",
    "        else:\n",
    "            b = x\n",
    "            \n",
    "        if err < tolerance:\n",
    "            break\n",
    "    else:\n",
    "        raise RuntimeError('Failed to converge in %d iteraions'%maxiter)\n",
    "    \n",
    "    return x"
   ]
  },
  {
   "cell_type": "code",
   "execution_count": 63,
   "id": "3447294c",
   "metadata": {},
   "outputs": [
    {
     "name": "stdout",
     "output_type": "stream",
     "text": [
      "0 x =-1.75000, \n",
      "1 x =-1.12500, \n",
      "2 x =-0.81250, \n",
      "3 x =-0.65625, \n",
      "4 x =-0.57812, \n",
      "5 x =-0.53906, \n",
      "6 x =-0.51953, \n",
      "7 x =-0.52930, \n",
      "8 x =-0.52441, \n",
      "9 x =-0.52686, \n",
      "10 x =-0.52808, \n",
      "11 x =-0.52747, \n",
      "12 x =-0.52777, \n",
      "13 x =-0.52792, \n",
      "14 x =-0.52785, \n",
      "15 x =-0.52781, \n",
      "16 x =-0.52783, \n",
      "17 x =-0.52782, \n",
      "18 x =-0.52781, \n",
      "19 x =-0.52781, \n",
      "20 x =-0.52781, \n",
      "21 x =-0.52781, \n",
      "22 x =-0.52781, \n",
      "Solution is x =-0.528, f(x)=0.0000\n"
     ]
    }
   ],
   "source": [
    "f = lambda x: -40 * x ** 5 + 5 * x + 1 + 4 * x ** 14\n",
    "a,b = -3, -.5\n",
    "def callback(x, iter, **kwargs):\n",
    "    print('%d x =%1.5f, '%(iter,x))\n",
    "x = bisection(f, a, b, callback=callback)\n",
    "print('Solution is x =%1.3f, f(x)=%1.4f' % (x, abs(f(x))))"
   ]
  },
  {
   "cell_type": "code",
   "execution_count": 64,
   "id": "b34c1ee4",
   "metadata": {},
   "outputs": [
    {
     "name": "stdout",
     "output_type": "stream",
     "text": [
      "Converged in 23 steps\n"
     ]
    },
    {
     "data": {
      "image/png": "[encoded data removed]",
      "text/plain": [
       "<Figure size 432x288 with 1 Axes>"
      ]
     },
     "metadata": {
      "needs_background": "light"
     },
     "output_type": "display_data"
    }
   ],
   "source": [
    "import numpy as np\n",
    "import matplotlib.pyplot as plt\n",
    "xd = np.linspace(a,b, 1000)\n",
    "plt.plot(xd, f(xd), c='red')\n",
    "plt.plot([a,b], [0,0], c='black') #plot zero line\n",
    "ylim = [f(a), min(f(b), 0)]\n",
    "plt.plot([a, a], ylim, c=\"grey\")\n",
    "plt.plot([b, b], ylim, c='grey')\n",
    "def plot_step(x, **kwargs):\n",
    "    plot_step.counter +=1\n",
    "    plt.plot([x,x], ylim, c='grey')\n",
    "plot_step.counter = 0\n",
    "bisection(f, a, b, callback=plot_step)\n",
    "print('Converged in %d steps' %plot_step.counter)\n",
    "plt.show()"
   ]
  },
  {
   "cell_type": "markdown",
   "id": "4727832f",
   "metadata": {},
   "source": [
    "### Newton-Rapson method\n",
    "General form $f(x)=0$\n",
    "* Equation solving \n",
    "* Finding max/min based on FOC, then $f(x) = Q'(x)$\n",
    "\n",
    "Algorithm:\n",
    "1. Start with some good guess $x_0$ not too far from the solution \n",
    "2. Newton step: $x_{i+1} = x_i - \\dfrac{f'(x_i)}{f''(x_i)}$\n",
    "3. Iterate untill convergence in some metric\n"
   ]
  },
  {
   "cell_type": "markdown",
   "id": "597cd772",
   "metadata": {},
   "source": [
    "### Derivation for Newton method using Taylor series expansion\n",
    "$$\n",
    "f(x) = \\sum_{k=0}^{\\infty}\\dfrac{f^{(k)}(x_0)}{k!}(x-x_0)^k\n",
    "$$\n",
    "\n",
    "Take first two terms, assume f(x) is solution, and let x_0 = x_i and x = x_{i+1}\n",
    "\n",
    "$$\n",
    "0 = f(x) = f(x_i) + f'(x_i)(x_{i+1}-x_i) \\Rightarrow x_{i+1} = x_i - \\dfrac{f(x_i)}{f'(x_i)}\n",
    "$$\n"
   ]
  },
  {
   "cell_type": "code",
   "execution_count": 75,
   "id": "7653044a",
   "metadata": {},
   "outputs": [],
   "source": [
    "def newton(fun, grad, x_0, tol=1e-6, maxiter=100, callback=None):\n",
    "    '''\n",
    "    Newton method for solving equation f(x)=0\n",
    "    with given tolerance and number of iteraions.\n",
    "    Callback function is invoked at each iteraion if given\n",
    "    '''\n",
    "    for i in range(maxiter):\n",
    "        x1 = x_0 - fun(x_0)/grad(x_0)\n",
    "        err = abs(x1-x_0)\n",
    "        if callback != None: callback(x0 = x_0, x1 = x1, err=err, iter=i)\n",
    "        if err < tol:\n",
    "            break\n",
    "        x_0 = x1\n",
    "    else:\n",
    "        raise RuntimeError('Failed to converge in %d iterations'%maxiter)\n",
    "    \n",
    "    return x1"
   ]
  },
  {
   "cell_type": "code",
   "execution_count": 86,
   "id": "51a98cdd",
   "metadata": {},
   "outputs": [
    {
     "name": "stdout",
     "output_type": "stream",
     "text": [
      "0 x0=-2.5000000000000000 x1=-1.7714285714285714\n",
      "1 x0=-1.7714285714285714 x1=-1.3311494495055727\n",
      "2 x0=-1.3311494495055727 x1=-1.0987751438398277\n",
      "3 x0=-1.0987751438398277 x1=-1.0131526300716971\n",
      "4 x0=-1.0131526300716971 x1=-1.0002861679668720\n",
      "5 x0=-1.0002861679668720 x1=-1.0000001402755980\n",
      "6 x0=-1.0000001402755980 x1=-1.0000000000000338\n",
      "Solution is x=-1.000, f(x)=0.000000000000\n"
     ]
    }
   ],
   "source": [
    "f = lambda x: -4 * x ** 3 + 5*x + 1\n",
    "grad = lambda x: -12 * x **2 + 5\n",
    "def printiter(x0,x1,iter, **kwargs):\n",
    "    print('%d x0=%1.16f x1=%1.16f' %(iter, x0, x1))\n",
    "x = newton(f, grad, x_0 = -2.5, callback=printiter)\n",
    "print('Solution is x=%1.3f, f(x)=%1.12f' %(x, f(x)))"
   ]
  }
 ],
 "metadata": {
  "kernelspec": {
   "display_name": "Python 3 (ipykernel)",
   "language": "python",
   "name": "python3"
  },
  "language_info": {
   "codemirror_mode": {
    "name": "ipython",
    "version": 3
   },
   "file_extension": ".py",
   "mimetype": "text/x-python",
   "name": "python",
   "nbconvert_exporter": "python",
   "pygments_lexer": "ipython3",
   "version": "3.9.7"
  },
  "varInspector": {
   "cols": {
    "lenName": 16,
    "lenType": 16,
    "lenVar": 40
   },
   "kernels_config": {
    "python": {
     "delete_cmd_postfix": "",
     "delete_cmd_prefix": "del ",
     "library": "var_list.py",
     "varRefreshCmd": "print(var_dic_list())"
    },
    "r": {
     "delete_cmd_postfix": ") ",
     "delete_cmd_prefix": "rm(",
     "library": "var_list.r",
     "varRefreshCmd": "cat(var_dic_list()) "
    }
   },
   "types_to_exclude": [
    "module",
    "function",
    "builtin_function_or_method",
    "instance",
    "_Feature"
   ],
   "window_display": false
  }
 },
 "nbformat": 4,
 "nbformat_minor": 5
}
