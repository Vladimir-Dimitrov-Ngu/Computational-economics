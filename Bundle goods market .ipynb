{
 "cells": [
  {
   "cell_type": "markdown",
   "id": "cee21526",
   "metadata": {},
   "source": [
    "Consider the following model of a bundle goods market. A bundle of goods is a collection of particular items offered at a specified price. For example, Happy Meals at McDonalds is a set of items in a meal sold for a particular price.\n",
    "\n",
    "One other example of bundled goods - subscription packages in theaters, for example La Scala in Milan or Mariinsky in St.Petersburg.\n",
    "\n",
    "In this task you will write code to implement and operationalize this setup."
   ]
  },
  {
   "cell_type": "code",
   "execution_count": 25,
   "id": "eff3af2d",
   "metadata": {},
   "outputs": [],
   "source": [
    "class Bundle_goods():\n",
    "    '''Class of bundled goods with well defined arithmetics'''\n",
    "    \n",
    "    items = {'Opera A', 'Opera B', \\\n",
    "            'Ballet A', 'Ballet B', \\\n",
    "            'Symphonic orchestra concert', \\\n",
    "            'Rock opera', \\\n",
    "            'Operetta'} # 7 different goods\n",
    "    \n",
    "    def __init__(self, quantities=[0, ], price = 0.0):\n",
    "        '''Creates the bundle good object'''\n",
    "        n = len(Bundle_goods.items) # number of available items\n",
    "        if len(quantities)<n:\n",
    "            #add zeros for the unspecified items\n",
    "            quantities += [0,] * (n-len(quantities))\n",
    "            \n",
    "        elif len(quantities)>n:\n",
    "            #ignore extra numbers\n",
    "            quantities = quantities[0:n]\n",
    "            \n",
    "        # create public attributes \n",
    "        # ensure the quantities in the object are integer\n",
    "        self.quantities = [int(x) for x in quantities]\n",
    "        self.price = price\n",
    "\n",
    "        \n",
    "    def __repr__(self):\n",
    "        '''String representation of the object'''\n",
    "        return 'Bundle object %r with price %1.2f' % (self.quantities, self.price)\n",
    "    \n",
    "    def __add__(self, other):\n",
    "        '''Addition for bundles: add items and sum prices, or increase price'''\n",
    "        \n",
    "        if type(other) is Bundle_goods:\n",
    "            \n",
    "            # add the quantities using list comprehension with one-to-one matching (zip)\n",
    "            q1 = [x + y for x,y in zip(self.quantities, other.quantities)]\n",
    "            \n",
    "            # sum of the price\n",
    "            p1 = self.price + other.price\n",
    "            \n",
    "            # return new bundle \n",
    "            return Bundle_goods(quantities=q1, price = p1)\n",
    "        \n",
    "        elif type(other) in (float, int):\n",
    "            \n",
    "            # increase the price\n",
    "            p1 = self.price + other\n",
    "            \n",
    "            # return new bundle \n",
    "            return Bundle_goods(quantities=self.quantities, price = p1)\n",
    "        \n",
    "        else:\n",
    "            raise TypeError('Can only add bundle to bundle, or number to bundle price')\n",
    "            \n",
    "            \n",
    "    def __sub__(self, other):\n",
    "        'Can only add bundle to bundle, or number to bundle price'\n",
    "        \n",
    "        if type(other) is Bundle_goods:\n",
    "            q2 = [x - y for x,y in zip(self.quantities, other.quantities)]\n",
    "            \n",
    "            p2 = self.price - other.price\n",
    "            \n",
    "            return Bundle_goods(quantities=q2, price=p2)\n",
    "        elif type(other) in (float, int):\n",
    "            \n",
    "            p2 = self.price - other\n",
    "            \n",
    "            return Bundle_goods(quantities=self.quantities, price = p2)\n",
    "        \n",
    "        else:\n",
    "            raise TypeError('Can only subtract bundle from bundle, or number from bundle price')\n",
    "    \n",
    "    def __mul__(self, num):\n",
    "        '''Multiplication for bundles: repetition of the original bundle\n",
    "        '''\n",
    "        if type(num) is int:\n",
    "            q1 = [x * num for x in self.quantities]\n",
    "            \n",
    "            p1 = self.price * num\n",
    "            \n",
    "            return Bundle_goods(quantities=q1, price=p1)\n",
    "        \n",
    "        else:\n",
    "             raise TypeError('Can only multiply bundle by an integer')\n",
    "                \n",
    "    def __truediv__(self, num):\n",
    "        '''Division for bundles: fraction of the original bundle, only if quantities are devisable\n",
    "        '''\n",
    "        if type(num) is int:\n",
    "            # divide quantities and check for divisibility\n",
    "            q1 = [q//num for q in self.quantities]\n",
    "            if not all(q%num==0 for q in self.quantities):\n",
    "                raise ValueError('Can not divide bundle into fractional parts')\n",
    "                \n",
    "            p1 = self.price / num\n",
    "            \n",
    "            return Bundle_goods(quantities=q1, price = p1)\n",
    "        \n",
    "        else:\n",
    "             raise TypeError('Can only divide bundle by an integer')\n",
    "        \n",
    "    \n",
    "    "
   ]
  },
  {
   "cell_type": "code",
   "execution_count": 9,
   "id": "0a0cf097",
   "metadata": {},
   "outputs": [
    {
     "name": "stdout",
     "output_type": "stream",
     "text": [
      "Bundle object [1, 2, 3, 4, 5, 6, 7] with price 11.43\n"
     ]
    }
   ],
   "source": [
    "x=Bundle_goods([1,2,3,4,5,6,7],11.43)\n",
    "print(x)"
   ]
  },
  {
   "cell_type": "code",
   "execution_count": 11,
   "id": "42ce2620",
   "metadata": {},
   "outputs": [
    {
     "name": "stdout",
     "output_type": "stream",
     "text": [
      "Bundle object [1, 2, 0, 0, 0, 0, 0] with price 0.00\n"
     ]
    }
   ],
   "source": [
    "x=Bundle_goods([1,2])\n",
    "print(x)"
   ]
  },
  {
   "cell_type": "code",
   "execution_count": 12,
   "id": "9723cbca",
   "metadata": {},
   "outputs": [
    {
     "name": "stdout",
     "output_type": "stream",
     "text": [
      "Bundle object [0, 1, 2, 3, 4, 5, 6] with price 100.20\n"
     ]
    }
   ],
   "source": [
    "x=Bundle_goods(range(25),100.2)\n",
    "print(x)"
   ]
  },
  {
   "cell_type": "code",
   "execution_count": 27,
   "id": "637e8263",
   "metadata": {},
   "outputs": [
    {
     "name": "stdout",
     "output_type": "stream",
     "text": [
      "Bundle object [8, 8, 8, 8, 8, 8, 8] with price 88.88\n"
     ]
    }
   ],
   "source": [
    "x=Bundle_goods([1,2,3,4,5,6,7],11.43)\n",
    "y=Bundle_goods([7,6,5,4,3,2,1],77.45)\n",
    "z=x+y\n",
    "print(z)"
   ]
  },
  {
   "cell_type": "code",
   "execution_count": 22,
   "id": "a377086c",
   "metadata": {},
   "outputs": [
    {
     "name": "stdout",
     "output_type": "stream",
     "text": [
      "Bundle object [6, 4, 2, 0, -2, -4, -6] with price 66.02\n"
     ]
    }
   ],
   "source": [
    "z=y-x\n",
    "print(z)"
   ]
  },
  {
   "cell_type": "code",
   "execution_count": 23,
   "id": "6d91b956",
   "metadata": {},
   "outputs": [
    {
     "name": "stdout",
     "output_type": "stream",
     "text": [
      "Bundle object [1, 2, 3, 4, 5, 6, 7] with price 15.96\n"
     ]
    }
   ],
   "source": [
    "z=x+4.531\n",
    "print(z)"
   ]
  },
  {
   "cell_type": "code",
   "execution_count": 29,
   "id": "726efea4",
   "metadata": {},
   "outputs": [
    {
     "name": "stdout",
     "output_type": "stream",
     "text": [
      "Bundle object [7, 6, 5, 4, 3, 2, 1] with price 0.45\n"
     ]
    }
   ],
   "source": [
    "z=y-77\n",
    "print(z)"
   ]
  },
  {
   "cell_type": "code",
   "execution_count": 30,
   "id": "d61925f2",
   "metadata": {},
   "outputs": [
    {
     "name": "stdout",
     "output_type": "stream",
     "text": [
      "Bundle object [11, 22, 33, 44, 55, 66, 77] with price 125.73\n"
     ]
    }
   ],
   "source": [
    "z=x*11\n",
    "print(z)"
   ]
  },
  {
   "cell_type": "code",
   "execution_count": 31,
   "id": "831ace1c",
   "metadata": {},
   "outputs": [
    {
     "name": "stdout",
     "output_type": "stream",
     "text": [
      "Ok 1\n"
     ]
    }
   ],
   "source": [
    "try:\n",
    "    z=x*11.5 #should raise a TypeError\n",
    "except TypeError:\n",
    "    print(\"Ok 1\")"
   ]
  },
  {
   "cell_type": "code",
   "execution_count": 32,
   "id": "a32bf50a",
   "metadata": {},
   "outputs": [
    {
     "name": "stdout",
     "output_type": "stream",
     "text": [
      "Ok 2\n"
     ]
    }
   ],
   "source": [
    "try:\n",
    "    z=x*y #should raise a TypeError\n",
    "except TypeError:\n",
    "    print(\"Ok 2\")"
   ]
  },
  {
   "cell_type": "code",
   "execution_count": 33,
   "id": "592f12b2",
   "metadata": {},
   "outputs": [
    {
     "name": "stdout",
     "output_type": "stream",
     "text": [
      "Ok 3\n"
     ]
    }
   ],
   "source": [
    "try:\n",
    "    z=x/y #should raise a TypeError\n",
    "except TypeError:\n",
    "    print(\"Ok 3\")"
   ]
  },
  {
   "cell_type": "code",
   "execution_count": 34,
   "id": "ed03953a",
   "metadata": {},
   "outputs": [
    {
     "name": "stdout",
     "output_type": "stream",
     "text": [
      "Bundle object [1, 1, 1, 1, 1, 1, 1] with price 11.11\n"
     ]
    }
   ],
   "source": [
    "z=(x+y)/8\n",
    "print(z) "
   ]
  },
  {
   "cell_type": "code",
   "execution_count": 35,
   "id": "fcead660",
   "metadata": {},
   "outputs": [
    {
     "name": "stdout",
     "output_type": "stream",
     "text": [
      "Ok 4\n"
     ]
    }
   ],
   "source": [
    "try:\n",
    "    (x+y)/7 #should raise a ValueError\n",
    "except ValueError:\n",
    "    print(\"Ok 4\") #should print \"Ok 4\""
   ]
  },
  {
   "cell_type": "code",
   "execution_count": 36,
   "id": "9405ee5d",
   "metadata": {},
   "outputs": [
    {
     "name": "stdout",
     "output_type": "stream",
     "text": [
      "Bundle object [1, 18, 35, 52, 69, 86, 103] with price 16.55\n"
     ]
    }
   ],
   "source": [
    "z=x*15-y*2\n",
    "print(z) #should print \"Bundle object [1, 18, 35, 52, 69, 86, 103] with price 16.55\"\n"
   ]
  },
  {
   "cell_type": "code",
   "execution_count": 221,
   "id": "9fe03133",
   "metadata": {},
   "outputs": [
    {
     "data": {
      "text/plain": [
       "array([ 7,  7, 17, 19, 23, 26, 30, 32, 37, 38, 38, 50, 60, 65, 71, 71, 76,\n",
       "       88, 92, 99])"
      ]
     },
     "execution_count": 221,
     "metadata": {},
     "output_type": "execute_result"
    }
   ],
   "source": [
    "import numpy as np\n",
    "np.sort(np.random.choice(100, size = 20, replace=True))"
   ]
  },
  {
   "cell_type": "code",
   "execution_count": 240,
   "id": "e552a976",
   "metadata": {},
   "outputs": [
    {
     "data": {
      "text/plain": [
       "123"
      ]
     },
     "execution_count": 240,
     "metadata": {},
     "output_type": "execute_result"
    }
   ],
   "source": [
    "x = -123\n",
    "abs(x)\n",
    "#if x == int(str(x)[::-1]):\n",
    "    "
   ]
  },
  {
   "cell_type": "code",
   "execution_count": null,
   "id": "50b62dc1",
   "metadata": {},
   "outputs": [],
   "source": []
  },
  {
   "cell_type": "code",
   "execution_count": 244,
   "id": "b6a7aa4e",
   "metadata": {},
   "outputs": [
    {
     "data": {
      "text/plain": [
       "'l'"
      ]
     },
     "execution_count": 244,
     "metadata": {},
     "output_type": "execute_result"
    }
   ],
   "source": [
    "strs = [\"flower\",\"flow\",\"flight\"]\n",
    "for j in range(len(strs)):\n",
    "    min(len(strs[i]))"
   ]
  },
  {
   "cell_type": "code",
   "execution_count": 275,
   "id": "85c1be62",
   "metadata": {},
   "outputs": [],
   "source": [
    "strs = [\"flower\",\"flow\",\"flight\"]\n",
    "a = min(strs, key = len)\n",
    "strs.remove(a)\n",
    "b = min(strs, key = len)\n",
    "l = [0] * len(a)\n",
    "for j in range(len(a)):\n",
    "    if a[j] == b[j]:\n",
    "        l[j] = j"
   ]
  },
  {
   "cell_type": "code",
   "execution_count": 307,
   "id": "f9e00014",
   "metadata": {},
   "outputs": [
    {
     "ename": "SyntaxError",
     "evalue": "'return' outside function (Temp/ipykernel_35924/2423878270.py, line 17)",
     "output_type": "error",
     "traceback": [
      "\u001b[1;36m  File \u001b[1;32m\"C:\\Users\\user\\AppData\\Local\\Temp/ipykernel_35924/2423878270.py\"\u001b[1;36m, line \u001b[1;32m17\u001b[0m\n\u001b[1;33m    return a[:sum(t)]\u001b[0m\n\u001b[1;37m    ^\u001b[0m\n\u001b[1;31mSyntaxError\u001b[0m\u001b[1;31m:\u001b[0m 'return' outside function\n"
     ]
    }
   ],
   "source": [
    "strs = [\"flower\",\"flow\",\"flight\"]\n",
    "a = min(strs, key = len)\n",
    "l = [0] * len(a)\n",
    "for i in range(len(a)):\n",
    "    for j in range(len(strs)):\n",
    "        if strs[j][i] == a[i]:\n",
    "            l[i] += 1\n",
    "        else:\n",
    "            break\n",
    "t = [0] * len(l)\n",
    "for i in range(len(l)):\n",
    "    if l[i] % 3 == 0:\n",
    "        t[i] = 1\n",
    "    else:\n",
    "        break\n",
    "\n",
    "return a[:sum(t)]\n",
    "\n",
    "            \n",
    "    "
   ]
  },
  {
   "cell_type": "code",
   "execution_count": null,
   "id": "ec4caf9d",
   "metadata": {},
   "outputs": [],
   "source": [
    "for j in range"
   ]
  },
  {
   "cell_type": "code",
   "execution_count": 306,
   "id": "2b8b9e11",
   "metadata": {},
   "outputs": [
    {
     "data": {
      "text/plain": [
       "'fl'"
      ]
     },
     "execution_count": 306,
     "metadata": {},
     "output_type": "execute_result"
    }
   ],
   "source": [
    "return a[:sum(t)]"
   ]
  },
  {
   "cell_type": "code",
   "execution_count": 308,
   "id": "f4ec17b4",
   "metadata": {},
   "outputs": [
    {
     "data": {
      "text/plain": [
       "0"
      ]
     },
     "execution_count": 308,
     "metadata": {},
     "output_type": "execute_result"
    }
   ],
   "source": [
    "l = []\n",
    "len(l)"
   ]
  },
  {
   "cell_type": "code",
   "execution_count": 288,
   "id": "6cfbc4ea",
   "metadata": {},
   "outputs": [],
   "source": [
    "t = [0] * len(l)\n",
    "for i in range(len(l)):\n",
    "    if l[i] % 3 == 0:\n",
    "        t[i] = 1\n",
    "    else:\n",
    "        break\n"
   ]
  },
  {
   "cell_type": "code",
   "execution_count": 289,
   "id": "2cb0a964",
   "metadata": {},
   "outputs": [
    {
     "data": {
      "text/plain": [
       "[1, 1, 0, 0]"
      ]
     },
     "execution_count": 289,
     "metadata": {},
     "output_type": "execute_result"
    }
   ],
   "source": []
  },
  {
   "cell_type": "code",
   "execution_count": 315,
   "id": "8295cf52",
   "metadata": {},
   "outputs": [
    {
     "data": {
      "text/plain": [
       "1"
      ]
     },
     "execution_count": 315,
     "metadata": {},
     "output_type": "execute_result"
    }
   ],
   "source": [
    "big_int = [1, 2, 3]\n",
    "big_int[-3]"
   ]
  }
 ],
 "metadata": {
  "kernelspec": {
   "display_name": "Python 3 (ipykernel)",
   "language": "python",
   "name": "python3"
  },
  "language_info": {
   "codemirror_mode": {
    "name": "ipython",
    "version": 3
   },
   "file_extension": ".py",
   "mimetype": "text/x-python",
   "name": "python",
   "nbconvert_exporter": "python",
   "pygments_lexer": "ipython3",
   "version": "3.9.7"
  },
  "varInspector": {
   "cols": {
    "lenName": 16,
    "lenType": 16,
    "lenVar": 40
   },
   "kernels_config": {
    "python": {
     "delete_cmd_postfix": "",
     "delete_cmd_prefix": "del ",
     "library": "var_list.py",
     "varRefreshCmd": "print(var_dic_list())"
    },
    "r": {
     "delete_cmd_postfix": ") ",
     "delete_cmd_prefix": "rm(",
     "library": "var_list.r",
     "varRefreshCmd": "cat(var_dic_list()) "
    }
   },
   "types_to_exclude": [
    "module",
    "function",
    "builtin_function_or_method",
    "instance",
    "_Feature"
   ],
   "window_display": false
  }
 },
 "nbformat": 4,
 "nbformat_minor": 5
}
