{
 "cells": [
  {
   "cell_type": "markdown",
   "id": "b89b60b6",
   "metadata": {},
   "source": [
    "### Linear programming \n",
    "\n",
    "* Finding max/min of linear function subject to set of linear inequality constraints\n",
    "\n",
    "\n",
    "#### Optimal transport problem \n",
    "\n",
    "Minimum cost of transporting a set of goods from $m$ origins to $n$ destinations, where cost of transporting from origin i to destination j is given by $c_{ij}$\n",
    "\n",
    "\n",
    "#### Formal problem statement \n",
    "\\begin{gathered}\n",
    "\\min \\sum_{i=1}^{m} \\sum_{j=1}^{n} c_{i j} x_{i j}, \\text { subject to } \\\\\n",
    "\\sum_{i=1}^{m} x_{i j}=b_{j}, j \\in\\{1, \\ldots, n\\} \\\\\n",
    "\\sum_{j=1}^{n} x_{i j}=a_{i}, i \\in\\{1, \\ldots, m\\} \\\\\n",
    "x_{i j} \\geq 0 \\text { for all } i, j\n",
    "\\end{gathered}"
   ]
  },
  {
   "cell_type": "markdown",
   "id": "574287bb",
   "metadata": {},
   "source": [
    "### Example: Optimal production portfolio \n",
    "\n",
    "Let x and y denote production of goods A and B by some firm. The production technology is restricted to have:\n",
    "\n",
    "\\begin{cases}y-x & \\leq 4 \\\\ 2 x-y & \\leq 8\\end{cases}\n",
    "\n",
    "And the resource constraints is given by $x + 2y \\leq 14$\n",
    "\n",
    "Let profits be given by $\\pi(x, y)=y+2x $\n",
    "\n",
    "\n",
    "\n",
    "#### Linear programming condition \n",
    "\n",
    "$$\n",
    "c=\\left(\\begin{array}{ll}\n",
    "2 & 1\n",
    "\\end{array}\\right), \\quad A=\\left(\\begin{array}{cc}\n",
    "-1 & 1 \\\\\n",
    "2 & -1 \\\\\n",
    "1 & 2 \\\\\n",
    "-1 & 0 \\\\\n",
    "0 & -1\n",
    "\\end{array}\\right), \\quad b=\\left(\\begin{array}{c}\n",
    "4 \\\\\n",
    "8 \\\\\n",
    "14 \\\\\n",
    "0 \\\\\n",
    "0\n",
    "\\end{array}\\right)\n",
    "$$"
   ]
  },
  {
   "cell_type": "code",
   "execution_count": 2,
   "id": "0e776110",
   "metadata": {},
   "outputs": [
    {
     "name": "stdout",
     "output_type": "stream",
     "text": [
      "iteration 0, current solution [0. 0.]\n",
      "iteration 1, current solution [4. 0.]\n",
      "iteration 2, current solution [6. 4.]\n",
      "iteration 3, current solution [6. 4.]\n",
      "iteration 3, current solution [6. 4.]\n"
     ]
    },
    {
     "data": {
      "text/plain": [
       "     con: array([], dtype=float64)\n",
       "     fun: -16.0\n",
       " message: 'Optimization terminated successfully.'\n",
       "     nit: 3\n",
       "   slack: array([6., 0., 0., 6., 4.])\n",
       "  status: 0\n",
       " success: True\n",
       "       x: array([6., 4.])"
      ]
     },
     "execution_count": 2,
     "metadata": {},
     "output_type": "execute_result"
    }
   ],
   "source": [
    "import numpy as np\n",
    "from scipy.optimize import linprog\n",
    "\n",
    "c = np.array([-2, -1])\n",
    "A = np.array([[-1, 1], [2, -1], [1, 2], [-1, 0], [0, -1]])\n",
    "b = np.array([4,8,14,0,0])\n",
    "\n",
    "def outf(arg):\n",
    "    print('iteration %d, current solution %s' %(arg.nit, arg.x))\n",
    "\n",
    "linprog(c=c,A_ub=A,b_ub=b,method='simplex',callback=outf)"
   ]
  },
  {
   "cell_type": "markdown",
   "id": "94a28ec6",
   "metadata": {},
   "source": []
  }
 ],
 "metadata": {
  "kernelspec": {
   "display_name": "Python 3 (ipykernel)",
   "language": "python",
   "name": "python3"
  },
  "language_info": {
   "codemirror_mode": {
    "name": "ipython",
    "version": 3
   },
   "file_extension": ".py",
   "mimetype": "text/x-python",
   "name": "python",
   "nbconvert_exporter": "python",
   "pygments_lexer": "ipython3",
   "version": "3.9.7"
  },
  "varInspector": {
   "cols": {
    "lenName": 16,
    "lenType": 16,
    "lenVar": 40
   },
   "kernels_config": {
    "python": {
     "delete_cmd_postfix": "",
     "delete_cmd_prefix": "del ",
     "library": "var_list.py",
     "varRefreshCmd": "print(var_dic_list())"
    },
    "r": {
     "delete_cmd_postfix": ") ",
     "delete_cmd_prefix": "rm(",
     "library": "var_list.r",
     "varRefreshCmd": "cat(var_dic_list()) "
    }
   },
   "types_to_exclude": [
    "module",
    "function",
    "builtin_function_or_method",
    "instance",
    "_Feature"
   ],
   "window_display": false
  }
 },
 "nbformat": 4,
 "nbformat_minor": 5
}
