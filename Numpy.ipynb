{
 "cells": [
  {
   "cell_type": "code",
   "execution_count": 35,
   "id": "b0b75b08",
   "metadata": {},
   "outputs": [
    {
     "name": "stdout",
     "output_type": "stream",
     "text": [
      "[ True  True  True  True  True  True  True  True  True  True  True  True\n",
      "  True  True  True  True  True  True  True  True  True  True  True  True\n",
      "  True  True  True  True  True  True  True  True  True  True  True  True\n",
      "  True  True  True  True  True  True  True  True  True  True  True  True\n",
      "  True  True  True  True  True  True  True  True  True  True  True  True\n",
      "  True  True  True  True  True  True  True  True  True  True False False\n",
      " False False False False False False False False False False False False\n",
      " False False False False False False False False False False False False\n",
      " False False False  True]\n",
      "[1.         1.02020202 1.04040404 1.06060606 1.08080808 1.1010101\n",
      " 1.12121212 1.14141414 1.16161616 1.18181818 1.2020202  1.22222222\n",
      " 1.24242424 1.26262626 1.28282828 1.3030303  1.32323232 1.34343434\n",
      " 1.36363636 1.38383838 1.4040404  1.42424242 1.44444444 1.46464646\n",
      " 1.48484848 1.50505051 1.52525253 1.54545455 1.56565657 1.58585859\n",
      " 1.60606061 1.62626263 1.64646465 1.66666667 1.68686869 1.70707071\n",
      " 1.72727273 1.74747475 1.76767677 1.78787879 1.80808081 1.82828283\n",
      " 1.84848485 1.86868687 1.88888889 1.90909091 1.92929293 1.94949495\n",
      " 1.96969697 1.98989899 2.01010101 2.03030303 2.05050505 2.07070707\n",
      " 2.09090909 2.11111111 2.13131313 2.15151515 2.17171717 2.19191919\n",
      " 2.21212121 2.23232323 2.25252525 2.27272727 2.29292929 2.31313131\n",
      " 2.33333333 2.35353535 2.37373737 2.39393939 3.        ]\n"
     ]
    }
   ],
   "source": [
    "import numpy as np\n",
    "z = np.linspace(1, 3, 100)\n",
    "mask = np.logical_and(z > 2.4, z < 3)\n",
    "print(~mask)\n",
    "print(z[~mask])"
   ]
  },
  {
   "cell_type": "code",
   "execution_count": 44,
   "id": "bf13d9ab",
   "metadata": {},
   "outputs": [
    {
     "name": "stdout",
     "output_type": "stream",
     "text": [
      "[[ 2]\n",
      " [ 5]\n",
      " [ 8]\n",
      " [11]]\n"
     ]
    }
   ],
   "source": [
    "x = np.arange(12).reshape(4,3)\n",
    "#print(x)\n",
    "print(np.maximum.reduce(x, axis=1, keepdims=True))"
   ]
  },
  {
   "cell_type": "code",
   "execution_count": 45,
   "id": "61844f18",
   "metadata": {},
   "outputs": [
    {
     "data": {
      "text/plain": [
       "  C_CONTIGUOUS : True\n",
       "  F_CONTIGUOUS : False\n",
       "  OWNDATA : False\n",
       "  WRITEABLE : True\n",
       "  ALIGNED : True\n",
       "  WRITEBACKIFCOPY : False\n",
       "  UPDATEIFCOPY : False"
      ]
     },
     "execution_count": 45,
     "metadata": {},
     "output_type": "execute_result"
    }
   ],
   "source": [
    "x.flags"
   ]
  },
  {
   "cell_type": "code",
   "execution_count": 55,
   "id": "2a4699fc",
   "metadata": {},
   "outputs": [
    {
     "name": "stdout",
     "output_type": "stream",
     "text": [
      "[[ 0  1  2]\n",
      " [ 3  4  5]\n",
      " [ 6  7  8]\n",
      " [ 9 10 11]]\n",
      "[[ 0  1  2]\n",
      " [ 3  4  5]\n",
      " [ 6  7  8]\n",
      " [ 9 10 11]]\n",
      "[[ 1]\n",
      " [ 4]\n",
      " [ 7]\n",
      " [10]]\n"
     ]
    }
   ],
   "source": [
    "import os\n",
    "id(x)\n",
    "y = x[:, 1:2]\n",
    "id(x) == id(y)\n",
    "id(y)\n",
    "id(x)\n",
    "t = x.copy()\n",
    "id(t) == id(x)\n",
    "print(x)\n",
    "y[0] == 99\n",
    "print(x)\n",
    "print(y)"
   ]
  },
  {
   "cell_type": "code",
   "execution_count": 56,
   "id": "8ba02a2b",
   "metadata": {},
   "outputs": [
    {
     "data": {
      "text/plain": [
       "array([[ 0,  1,  2],\n",
       "       [ 3,  4,  5],\n",
       "       [ 6,  7,  8],\n",
       "       [ 9, 10, 11]])"
      ]
     },
     "execution_count": 56,
     "metadata": {},
     "output_type": "execute_result"
    }
   ],
   "source": [
    "x"
   ]
  }
 ],
 "metadata": {
  "kernelspec": {
   "display_name": "Python 3 (ipykernel)",
   "language": "python",
   "name": "python3"
  },
  "language_info": {
   "codemirror_mode": {
    "name": "ipython",
    "version": 3
   },
   "file_extension": ".py",
   "mimetype": "text/x-python",
   "name": "python",
   "nbconvert_exporter": "python",
   "pygments_lexer": "ipython3",
   "version": "3.9.7"
  },
  "varInspector": {
   "cols": {
    "lenName": 16,
    "lenType": 16,
    "lenVar": 40
   },
   "kernels_config": {
    "python": {
     "delete_cmd_postfix": "",
     "delete_cmd_prefix": "del ",
     "library": "var_list.py",
     "varRefreshCmd": "print(var_dic_list())"
    },
    "r": {
     "delete_cmd_postfix": ") ",
     "delete_cmd_prefix": "rm(",
     "library": "var_list.r",
     "varRefreshCmd": "cat(var_dic_list()) "
    }
   },
   "types_to_exclude": [
    "module",
    "function",
    "builtin_function_or_method",
    "instance",
    "_Feature"
   ],
   "window_display": false
  }
 },
 "nbformat": 4,
 "nbformat_minor": 5
}
