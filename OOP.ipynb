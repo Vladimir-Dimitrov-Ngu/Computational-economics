{
 "cells": [
  {
   "cell_type": "code",
   "execution_count": 8,
   "id": "f82476d9",
   "metadata": {},
   "outputs": [],
   "source": [
    "class Firm:\n",
    "    '''Stores the parameters of the production function f(k) = Ak^(alpha),\n",
    "    implements the function.\n",
    "    '''\n",
    "    def __init__(self, α= 0.5, A = 2.0): # Init\n",
    "        self.α = α\n",
    "        self.A = A\n",
    "    \n",
    "    def production(self, val):\n",
    "        return self.A * val**self.α"
   ]
  },
  {
   "cell_type": "markdown",
   "id": "9919bd80",
   "metadata": {},
   "source": []
  }
 ],
 "metadata": {
  "kernelspec": {
   "display_name": "Python 3 (ipykernel)",
   "language": "python",
   "name": "python3"
  },
  "language_info": {
   "codemirror_mode": {
    "name": "ipython",
    "version": 3
   },
   "file_extension": ".py",
   "mimetype": "text/x-python",
   "name": "python",
   "nbconvert_exporter": "python",
   "pygments_lexer": "ipython3",
   "version": "3.9.7"
  },
  "varInspector": {
   "cols": {
    "lenName": 16,
    "lenType": 16,
    "lenVar": 40
   },
   "kernels_config": {
    "python": {
     "delete_cmd_postfix": "",
     "delete_cmd_prefix": "del ",
     "library": "var_list.py",
     "varRefreshCmd": "print(var_dic_list())"
    },
    "r": {
     "delete_cmd_postfix": ") ",
     "delete_cmd_prefix": "rm(",
     "library": "var_list.r",
     "varRefreshCmd": "cat(var_dic_list()) "
    }
   },
   "types_to_exclude": [
    "module",
    "function",
    "builtin_function_or_method",
    "instance",
    "_Feature"
   ],
   "window_display": false
  }
 },
 "nbformat": 4,
 "nbformat_minor": 5
}
