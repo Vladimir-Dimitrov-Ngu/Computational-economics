{
 "cells": [
  {
   "cell_type": "markdown",
   "id": "7cb2f5cb",
   "metadata": {},
   "source": [
    "### Indexing problem\n",
    "\n",
    "Code up a function to convert  $(i, j)$ index in a two-dimensional array into a single index $k$ which swipes the matrix by column. Also code up the inverse of this function."
   ]
  },
  {
   "cell_type": "code",
   "execution_count": 27,
   "id": "8226673f",
   "metadata": {},
   "outputs": [],
   "source": [
    "# only consider base0\n",
    "def k(i, j, m, inverse=True):\n",
    "    t = i  + j * m\n",
    "    if inverse == True:\n",
    "        i_0 = t - j * m\n",
    "        j_0 = (t - i)/m\n",
    "        print((i, j),\"->\",t, \"->\", (i_0, int(j_0)))\n",
    "    else:\n",
    "        print((i, j), \"->\", t)\n",
    "    "
   ]
  },
  {
   "cell_type": "code",
   "execution_count": 28,
   "id": "a02d1f63",
   "metadata": {},
   "outputs": [
    {
     "name": "stdout",
     "output_type": "stream",
     "text": [
      "(1, 1) -> 6 -> (1, 1)\n"
     ]
    }
   ],
   "source": [
    "k(1, 1, 5, True)"
   ]
  },
  {
   "cell_type": "code",
   "execution_count": 29,
   "id": "9c20e65e",
   "metadata": {},
   "outputs": [
    {
     "name": "stdout",
     "output_type": "stream",
     "text": [
      "2 F 3 (2, 3)\n"
     ]
    }
   ],
   "source": [
    "r = 2\n",
    "n = 3\n",
    "print(r ,\"F\",n, (r, n))"
   ]
  },
  {
   "cell_type": "code",
   "execution_count": 30,
   "id": "dc4b4745",
   "metadata": {},
   "outputs": [
    {
     "name": "stdout",
     "output_type": "stream",
     "text": [
      "(0, 0) -> 0 -> (0, 0)\n",
      "(0, 1) -> 5 -> (0, 1)\n",
      "(0, 2) -> 10 -> (0, 2)\n",
      "(0, 3) -> 15 -> (0, 3)\n",
      "(0, 4) -> 20 -> (0, 4)\n",
      "(0, 5) -> 25 -> (0, 5)\n",
      "(0, 6) -> 30 -> (0, 6)\n",
      "(0, 7) -> 35 -> (0, 7)\n",
      "(0, 8) -> 40 -> (0, 8)\n",
      "(0, 9) -> 45 -> (0, 9)\n",
      "(1, 0) -> 1 -> (1, 0)\n",
      "(1, 1) -> 6 -> (1, 1)\n",
      "(1, 2) -> 11 -> (1, 2)\n",
      "(1, 3) -> 16 -> (1, 3)\n",
      "(1, 4) -> 21 -> (1, 4)\n",
      "(1, 5) -> 26 -> (1, 5)\n",
      "(1, 6) -> 31 -> (1, 6)\n",
      "(1, 7) -> 36 -> (1, 7)\n",
      "(1, 8) -> 41 -> (1, 8)\n",
      "(1, 9) -> 46 -> (1, 9)\n",
      "(2, 0) -> 2 -> (2, 0)\n",
      "(2, 1) -> 7 -> (2, 1)\n",
      "(2, 2) -> 12 -> (2, 2)\n",
      "(2, 3) -> 17 -> (2, 3)\n",
      "(2, 4) -> 22 -> (2, 4)\n",
      "(2, 5) -> 27 -> (2, 5)\n",
      "(2, 6) -> 32 -> (2, 6)\n",
      "(2, 7) -> 37 -> (2, 7)\n",
      "(2, 8) -> 42 -> (2, 8)\n",
      "(2, 9) -> 47 -> (2, 9)\n",
      "(3, 0) -> 3 -> (3, 0)\n",
      "(3, 1) -> 8 -> (3, 1)\n",
      "(3, 2) -> 13 -> (3, 2)\n",
      "(3, 3) -> 18 -> (3, 3)\n",
      "(3, 4) -> 23 -> (3, 4)\n",
      "(3, 5) -> 28 -> (3, 5)\n",
      "(3, 6) -> 33 -> (3, 6)\n",
      "(3, 7) -> 38 -> (3, 7)\n",
      "(3, 8) -> 43 -> (3, 8)\n",
      "(3, 9) -> 48 -> (3, 9)\n",
      "(4, 0) -> 4 -> (4, 0)\n",
      "(4, 1) -> 9 -> (4, 1)\n",
      "(4, 2) -> 14 -> (4, 2)\n",
      "(4, 3) -> 19 -> (4, 3)\n",
      "(4, 4) -> 24 -> (4, 4)\n",
      "(4, 5) -> 29 -> (4, 5)\n",
      "(4, 6) -> 34 -> (4, 6)\n",
      "(4, 7) -> 39 -> (4, 7)\n",
      "(4, 8) -> 44 -> (4, 8)\n",
      "(4, 9) -> 49 -> (4, 9)\n"
     ]
    }
   ],
   "source": [
    "for i in range(5):\n",
    "    for j in range(10):\n",
    "        k(i, j, 5)"
   ]
  },
  {
   "cell_type": "code",
   "execution_count": 31,
   "id": "6ea83c2f",
   "metadata": {},
   "outputs": [],
   "source": [
    "#with base 1\n",
    "def k(i, j, m, inverse=True, base_0 = True):\n",
    "    if base_0:\n",
    "        t = i  + j * m\n",
    "        if inverse == True:\n",
    "            i_0 = t - j * m\n",
    "            j_0 = (t - i)/m\n",
    "            print((i, j),\"->\",t, \"->\", (i_0, int(j_0)))\n",
    "        else:\n",
    "            print((i, j), \"->\", t)\n",
    "    else:\n",
    "        t = i + (j-1) * m\n",
    "        if inverse==True:\n",
    "            i_0 = t - (j-1) * m\n",
    "            j_0 = (t - i)/m + 1\n",
    "            print((i, j),\"->\",t, \"->\", (i_0, int(j_0)))\n",
    "        else:\n",
    "            print((i, j), \"->\", t)"
   ]
  },
  {
   "cell_type": "code",
   "execution_count": 32,
   "id": "b7138132",
   "metadata": {},
   "outputs": [
    {
     "name": "stdout",
     "output_type": "stream",
     "text": [
      "(1, 1) -> 1 -> (1, 1)\n",
      "(1, 2) -> 6 -> (1, 2)\n",
      "(1, 3) -> 11 -> (1, 3)\n",
      "(1, 4) -> 16 -> (1, 4)\n",
      "(1, 5) -> 21 -> (1, 5)\n",
      "(1, 6) -> 26 -> (1, 6)\n",
      "(1, 7) -> 31 -> (1, 7)\n",
      "(1, 8) -> 36 -> (1, 8)\n",
      "(1, 9) -> 41 -> (1, 9)\n",
      "(2, 1) -> 2 -> (2, 1)\n",
      "(2, 2) -> 7 -> (2, 2)\n",
      "(2, 3) -> 12 -> (2, 3)\n",
      "(2, 4) -> 17 -> (2, 4)\n",
      "(2, 5) -> 22 -> (2, 5)\n",
      "(2, 6) -> 27 -> (2, 6)\n",
      "(2, 7) -> 32 -> (2, 7)\n",
      "(2, 8) -> 37 -> (2, 8)\n",
      "(2, 9) -> 42 -> (2, 9)\n",
      "(3, 1) -> 3 -> (3, 1)\n",
      "(3, 2) -> 8 -> (3, 2)\n",
      "(3, 3) -> 13 -> (3, 3)\n",
      "(3, 4) -> 18 -> (3, 4)\n",
      "(3, 5) -> 23 -> (3, 5)\n",
      "(3, 6) -> 28 -> (3, 6)\n",
      "(3, 7) -> 33 -> (3, 7)\n",
      "(3, 8) -> 38 -> (3, 8)\n",
      "(3, 9) -> 43 -> (3, 9)\n",
      "(4, 1) -> 4 -> (4, 1)\n",
      "(4, 2) -> 9 -> (4, 2)\n",
      "(4, 3) -> 14 -> (4, 3)\n",
      "(4, 4) -> 19 -> (4, 4)\n",
      "(4, 5) -> 24 -> (4, 5)\n",
      "(4, 6) -> 29 -> (4, 6)\n",
      "(4, 7) -> 34 -> (4, 7)\n",
      "(4, 8) -> 39 -> (4, 8)\n",
      "(4, 9) -> 44 -> (4, 9)\n"
     ]
    }
   ],
   "source": [
    "for i in range(1,5):\n",
    "    for j in range(1,10):\n",
    "        k(i, j, 5, base_0=False)"
   ]
  },
  {
   "cell_type": "markdown",
   "id": "07fd7180",
   "metadata": {},
   "source": [
    "### Example 2\n",
    "\n",
    "Write a function to converter a decimal number into a given base. Return the result as string."
   ]
  },
  {
   "cell_type": "code",
   "execution_count": 51,
   "id": "3958c0da",
   "metadata": {},
   "outputs": [],
   "source": [
    "def function_for_conv(number, base):\n",
    "    l = []\n",
    "    while number >= base:\n",
    "        reminder = number % base \n",
    "        number //= base\n",
    "        l.append(reminder)\n",
    "    \n",
    "    l.append(number)\n",
    "    return l[::-1]\n",
    "    "
   ]
  },
  {
   "cell_type": "code",
   "execution_count": 56,
   "id": "0e97cd95",
   "metadata": {},
   "outputs": [
    {
     "data": {
      "text/plain": [
       "[3, 18, 10, 16]"
      ]
     },
     "execution_count": 56,
     "metadata": {},
     "output_type": "execute_result"
    }
   ],
   "source": [
    "function_for_conv(151041, 35)"
   ]
  },
  {
   "cell_type": "code",
   "execution_count": 64,
   "id": "b5546554",
   "metadata": {},
   "outputs": [
    {
     "name": "stdout",
     "output_type": "stream",
     "text": [
      "3 in base 36 is 3\n",
      "3 in base 32 is 3\n",
      "3 in base 28 is 3\n",
      "3 in base 24 is 3\n",
      "3 in base 20 is 3\n",
      "3 in base 16 is 3\n",
      "3 in base 12 is 3\n",
      "3 in base 8 is 3\n",
      "3 in base 4 is 3\n",
      "\n",
      "8 in base 36 is 8\n",
      "8 in base 32 is 8\n",
      "8 in base 28 is 8\n",
      "8 in base 24 is 8\n",
      "8 in base 20 is 8\n",
      "8 in base 16 is 8\n",
      "8 in base 12 is 8\n",
      "8 in base 8 is 10\n",
      "8 in base 4 is 20\n",
      "\n",
      "35 in base 36 is z\n",
      "35 in base 32 is 13\n",
      "35 in base 28 is 17\n",
      "35 in base 24 is 1b\n",
      "35 in base 20 is 1f\n",
      "35 in base 16 is 23\n",
      "35 in base 12 is 2b\n",
      "35 in base 8 is 43\n",
      "35 in base 4 is 203\n",
      "\n",
      "574 in base 36 is fy\n",
      "574 in base 32 is hu\n",
      "574 in base 28 is ke\n",
      "574 in base 24 is nm\n",
      "574 in base 20 is 18e\n",
      "574 in base 16 is 23e\n",
      "574 in base 12 is 3ba\n",
      "574 in base 8 is 1076\n",
      "574 in base 4 is 20332\n",
      "\n",
      "1023523 in base 36 is lxr7\n",
      "1023523 in base 32 is v7h3\n",
      "1023523 in base 28 is 1iheb\n",
      "1023523 in base 24 is 320mj\n",
      "1023523 in base 20 is 67ig3\n",
      "1023523 in base 16 is f9e23\n",
      "1023523 in base 12 is 414397\n",
      "1023523 in base 8 is 3717043\n",
      "1023523 in base 4 is 3321320203\n",
      "\n",
      "9999 in base 36 is 7pr\n",
      "9999 in base 32 is 9of\n",
      "9999 in base 28 is cl3\n",
      "9999 in base 24 is h8f\n",
      "9999 in base 20 is 14jj\n",
      "9999 in base 16 is 270f\n",
      "9999 in base 12 is 5953\n",
      "9999 in base 8 is 23417\n",
      "9999 in base 4 is 2130033\n",
      "\n"
     ]
    }
   ],
   "source": [
    "def func_for_conv_with_let(base, number):\n",
    "    digits = [str(i) for i in range(10)] + [chr(i) for  i in range(97, 123)]\n",
    "    assert 2 <= base <= len(digits), 'Number base must be between 2 and %d'%(len(digits))\n",
    "    if x ==0:\n",
    "        return '0'\n",
    "    l = []\n",
    "    while x > 0:\n",
    "        i = x % base\n",
    "        l.append(digits[i])\n",
    "        x //= base\n",
    "    return ''.join(l[::-1])\n",
    "for n in [3,8,35,574,1023523,9999]:\n",
    "    for b in range(36,1,-4):\n",
    "        print('%d in base %d is %s' % (n,b,baseN(n,b)))\n",
    "    print()"
   ]
  }
 ],
 "metadata": {
  "kernelspec": {
   "display_name": "Python 3 (ipykernel)",
   "language": "python",
   "name": "python3"
  },
  "language_info": {
   "codemirror_mode": {
    "name": "ipython",
    "version": 3
   },
   "file_extension": ".py",
   "mimetype": "text/x-python",
   "name": "python",
   "nbconvert_exporter": "python",
   "pygments_lexer": "ipython3",
   "version": "3.9.7"
  },
  "varInspector": {
   "cols": {
    "lenName": 16,
    "lenType": 16,
    "lenVar": 40
   },
   "kernels_config": {
    "python": {
     "delete_cmd_postfix": "",
     "delete_cmd_prefix": "del ",
     "library": "var_list.py",
     "varRefreshCmd": "print(var_dic_list())"
    },
    "r": {
     "delete_cmd_postfix": ") ",
     "delete_cmd_prefix": "rm(",
     "library": "var_list.r",
     "varRefreshCmd": "cat(var_dic_list()) "
    }
   },
   "types_to_exclude": [
    "module",
    "function",
    "builtin_function_or_method",
    "instance",
    "_Feature"
   ],
   "window_display": false
  }
 },
 "nbformat": 4,
 "nbformat_minor": 5
}
