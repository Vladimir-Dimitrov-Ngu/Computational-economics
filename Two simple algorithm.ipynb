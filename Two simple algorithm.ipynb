{
 "cells": [
  {
   "cell_type": "markdown",
   "id": "6803bb2b",
   "metadata": {},
   "source": [
    "### Parity algorithm\n",
    "1. Convert the number to binary\n",
    "2. Check if last digit is zero\n",
    "\n",
    "* All integers already have a clear binary representation"
   ]
  },
  {
   "cell_type": "code",
   "execution_count": null,
   "id": "e084b7d5",
   "metadata": {},
   "outputs": [],
   "source": []
  },
  {
   "cell_type": "code",
   "execution_count": 13,
   "id": "44b36cf6",
   "metadata": {},
   "outputs": [],
   "source": [
    "def sum_list(lst):\n",
    "    if len(lst) == 1:\n",
    "        return lst[0]\n",
    "    \n",
    "    j = len(lst) // 2\n",
    "    sum = sum_list(lst[:j]) + sum_list(lst[j:])\n",
    "    return sum"
   ]
  },
  {
   "cell_type": "code",
   "execution_count": 18,
   "id": "9e2a6c06",
   "metadata": {},
   "outputs": [
    {
     "data": {
      "text/plain": [
       "5050"
      ]
     },
     "execution_count": 18,
     "metadata": {},
     "output_type": "execute_result"
    }
   ],
   "source": [
    "sum_list(list(range(101)))"
   ]
  },
  {
   "cell_type": "code",
   "execution_count": 6,
   "id": "84c4412b",
   "metadata": {},
   "outputs": [
    {
     "name": "stdout",
     "output_type": "stream",
     "text": [
      "32\n"
     ]
    }
   ],
   "source": [
    "import numpy as np\n",
    "que = np.random.randint(1, 100)\n",
    "print(que)\n",
    "l = list(range(0, 101))\n",
    "\n",
    "def bin_search(que, l):\n",
    "    if len(l) == 1:\n",
    "        return l[0]\n",
    "    j = len(l) // 2\n",
    "    if que in l[:j]:\n",
    "        bin_search(que, l[:j])\n",
    "    elif que in l[j:]:\n",
    "        bin_search(que, l[j:])"
   ]
  },
  {
   "cell_type": "code",
   "execution_count": 9,
   "id": "2767f170",
   "metadata": {},
   "outputs": [],
   "source": [
    "bin_search(10, l)"
   ]
  }
 ],
 "metadata": {
  "kernelspec": {
   "display_name": "Python 3 (ipykernel)",
   "language": "python",
   "name": "python3"
  },
  "language_info": {
   "codemirror_mode": {
    "name": "ipython",
    "version": 3
   },
   "file_extension": ".py",
   "mimetype": "text/x-python",
   "name": "python",
   "nbconvert_exporter": "python",
   "pygments_lexer": "ipython3",
   "version": "3.9.7"
  },
  "varInspector": {
   "cols": {
    "lenName": 16,
    "lenType": 16,
    "lenVar": 40
   },
   "kernels_config": {
    "python": {
     "delete_cmd_postfix": "",
     "delete_cmd_prefix": "del ",
     "library": "var_list.py",
     "varRefreshCmd": "print(var_dic_list())"
    },
    "r": {
     "delete_cmd_postfix": ") ",
     "delete_cmd_prefix": "rm(",
     "library": "var_list.r",
     "varRefreshCmd": "cat(var_dic_list()) "
    }
   },
   "types_to_exclude": [
    "module",
    "function",
    "builtin_function_or_method",
    "instance",
    "_Feature"
   ],
   "window_display": false
  }
 },
 "nbformat": 4,
 "nbformat_minor": 5
}
